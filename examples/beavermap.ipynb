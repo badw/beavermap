{
 "cells": [
  {
   "cell_type": "code",
   "execution_count": 102,
   "id": "3a862df3",
   "metadata": {},
   "outputs": [
    {
     "name": "stdout",
     "output_type": "stream",
     "text": [
      "The autoreload extension is already loaded. To reload it, use:\n",
      "  %reload_ext autoreload\n"
     ]
    }
   ],
   "source": [
    "%load_ext autoreload\n",
    "%autoreload 2"
   ]
  },
  {
   "cell_type": "code",
   "execution_count": 104,
   "id": "b27789fe",
   "metadata": {},
   "outputs": [],
   "source": [
    "ranges = [(9, 13),     # XLPE/EVA\n",
    "    (18.957, 19, 357),\n",
    "    (13.879, 14.103),  # Graphite\n",
    "    (11.017, 11.068),  # Mica\n",
    "    (12.226, 12.396),\n",
    "    (13.426, 13.603),\n",
    "    (16.484, 16.660),\n",
    "    (14.393, 14.793),  # NaCl\n",
    "    (16.663, 17.063),\n",
    "    (23.733, 24.133),\n",
    "    (27.933, 28.333),\n",
    "    (29.213, 29.613),\n",
    "    (33.950, 34.250),\n",
    "    (37.043, 37.443),\n",
    "    (38.048, 38.448),\n",
    "    (41.940, 42.200),\n",
    "    (44.630, 44.859),\n",
    "    (14.993, 15.173),  # KCl\n",
    "    (21.303, 21.484),\n",
    "    (25.169, 25.324),\n",
    "    (26.124, 26.472),\n",
    "    (15.522, 15.803),  # CaCO3\n",
    "    (19.054, 19.154),\n",
    "    (20.720, 20.948),\n",
    "    (22.690, 22.815),\n",
    "    (24.650, 24.812),\n",
    "    (25.328, 25.596),\n",
    "    (29.687, 29.917),\n",
    "    (31.276, 31.910),\n",
    "    (33.147, 33.501),\n",
    "    (33.753, 33.946),\n",
    "    (19.154, 19.368),  # ZnO\n",
    "    (18.193, 18.464),\n",
    "    (24.873, 25.117),\n",
    "    (32.292, 32.617),\n",
    "    (34.783, 35.007),\n",
    "    (35.227, 35.568),\n",
    "    (38.717, 39.275),\n",
    "    (44.330, 44.574),\n",
    "    (14.45, 14.70),    #Unknowns\n",
    "    (28.3, 28.5),\n",
    "    (26.55, 26.85),\n",
    "    (13, 13.2),\n",
    "    (17.75, 17.95),\n",
    "    (18.3, 18.7),\n",
    "    (24.26, 24.80),\n",
    "    (28.9, 29.10)\n",
    "              ]"
   ]
  },
  {
   "cell_type": "code",
   "execution_count": 121,
   "id": "867b607f",
   "metadata": {},
   "outputs": [],
   "source": [
    "from beavermap import BeaverMap\n",
    "import os \n",
    "bm = BeaverMap(\n",
    "    h5_file = './data/al2o3_m330p0/al2o3_m330p0.h5',\n",
    "    poni_file = './data/m330p0.poni',\n",
    "    mask_file = './data/mask.edf',\n",
    "    chunk_size = 100,\n",
    "    location = '1.1/measurement/eiger',\n",
    "    nworkers = 1,\n",
    "    max_memory = 4000\n",
    ")\n",
    "bm.default_integrate_args\n"
   ]
  },
  {
   "cell_type": "code",
   "execution_count": null,
   "id": "cf929430",
   "metadata": {},
   "outputs": [
    {
     "data": {
      "application/vnd.jupyter.widget-view+json": {
       "model_id": "53422f3c367349ada66ef7e0485ec7f5",
       "version_major": 2,
       "version_minor": 0
      },
      "text/plain": [
       "  0%|          | 0/7200 [00:00<?, ?it/s]"
      ]
     },
     "metadata": {},
     "output_type": "display_data"
    },
    {
     "ename": "TypeError",
     "evalue": "_pathos_tqdm_integrate_worker() got an unexpected keyword argument 'maxtasksperchild'",
     "output_type": "error",
     "traceback": [
      "\u001b[31m---------------------------------------------------------------------------\u001b[39m",
      "\u001b[31mRemoteTraceback\u001b[39m                           Traceback (most recent call last)",
      "\u001b[31mRemoteTraceback\u001b[39m: \n\"\"\"\nTraceback (most recent call last):\n  File \"/Users/badw/miniconda3/envs/py312/lib/python3.12/site-packages/multiprocess/pool.py\", line 125, in worker\n    result = (True, func(*args, **kwds))\n                    ^^^^^^^^^^^^^^^^^^^\n  File \"/Users/badw/miniconda3/envs/py312/lib/python3.12/site-packages/multiprocess/pool.py\", line 48, in mapstar\n    return list(map(*args))\n           ^^^^^^^^^^^^^^^^\n  File \"/Users/badw/miniconda3/envs/py312/lib/python3.12/site-packages/tqdm_pathos/tqdm_pathos.py\", line 23, in func_map\n    return func(*[iterable] + args, **kwargs)\n           ^^^^^^^^^^^^^^^^^^^^^^^^^^^^^^^^^^\nTypeError: _pathos_tqdm_integrate_worker() got an unexpected keyword argument 'maxtasksperchild'\n\"\"\"",
      "\nThe above exception was the direct cause of the following exception:\n",
      "\u001b[31mTypeError\u001b[39m                                 Traceback (most recent call last)",
      "\u001b[36mCell\u001b[39m\u001b[36m \u001b[39m\u001b[32mIn[122]\u001b[39m\u001b[32m, line 1\u001b[39m\n\u001b[32m----> \u001b[39m\u001b[32m1\u001b[39m results = \u001b[43mbm\u001b[49m\u001b[43m.\u001b[49m\u001b[43m_pathos_tqdm_integrate\u001b[49m\u001b[43m(\u001b[49m\u001b[43m)\u001b[49m\n",
      "\u001b[36mFile \u001b[39m\u001b[32m<string>:2\u001b[39m, in \u001b[36m_pathos_tqdm_integrate\u001b[39m\u001b[34m(self)\u001b[39m\n",
      "\u001b[36mFile \u001b[39m\u001b[32m~/miniconda3/envs/py312/lib/python3.12/site-packages/tqdm_pathos/tqdm_pathos.py:96\u001b[39m, in \u001b[36mmap\u001b[39m\u001b[34m(func, iterable, n_cpus, pool, tqdm_kwargs, *args, **kwargs)\u001b[39m\n\u001b[32m     86\u001b[39m \u001b[38;5;28;01mdef\u001b[39;00m\u001b[38;5;250m \u001b[39m\u001b[34mmap\u001b[39m(\n\u001b[32m     87\u001b[39m     func,\n\u001b[32m     88\u001b[39m     iterable,\n\u001b[32m   (...)\u001b[39m\u001b[32m     93\u001b[39m     **kwargs,\n\u001b[32m     94\u001b[39m     ):\n\u001b[32m---> \u001b[39m\u001b[32m96\u001b[39m     \u001b[38;5;28;01mreturn\u001b[39;00m \u001b[43mmap_or_starmap\u001b[49m\u001b[43m(\u001b[49m\n\u001b[32m     97\u001b[39m \u001b[43m        \u001b[49m\u001b[43mfunc_map\u001b[49m\u001b[43m,\u001b[49m\n\u001b[32m     98\u001b[39m \u001b[43m        \u001b[49m\u001b[43mfunc\u001b[49m\u001b[43m,\u001b[49m\n\u001b[32m     99\u001b[39m \u001b[43m        \u001b[49m\u001b[43miterable\u001b[49m\u001b[43m,\u001b[49m\n\u001b[32m    100\u001b[39m \u001b[43m        \u001b[49m\u001b[43margs\u001b[49m\u001b[43m,\u001b[49m\n\u001b[32m    101\u001b[39m \u001b[43m        \u001b[49m\u001b[43m{\u001b[49m\u001b[33;43m'\u001b[39;49m\u001b[33;43mn_cpus\u001b[39;49m\u001b[33;43m'\u001b[39;49m\u001b[43m:\u001b[49m\u001b[43m \u001b[49m\u001b[43mn_cpus\u001b[49m\u001b[43m,\u001b[49m\u001b[43m \u001b[49m\u001b[33;43m'\u001b[39;49m\u001b[33;43mpool\u001b[39;49m\u001b[33;43m'\u001b[39;49m\u001b[43m:\u001b[49m\u001b[43m \u001b[49m\u001b[43mpool\u001b[49m\u001b[43m,\u001b[49m\u001b[43m \u001b[49m\u001b[43m*\u001b[49m\u001b[43m*\u001b[49m\u001b[43mkwargs\u001b[49m\u001b[43m}\u001b[49m\u001b[43m,\u001b[49m\n\u001b[32m    102\u001b[39m \u001b[43m        \u001b[49m\u001b[43mtqdm_kwargs\u001b[49m\u001b[43m,\u001b[49m\n\u001b[32m    103\u001b[39m \u001b[43m        \u001b[49m\u001b[43m)\u001b[49m\n",
      "\u001b[36mFile \u001b[39m\u001b[32m~/miniconda3/envs/py312/lib/python3.12/site-packages/tqdm_pathos/tqdm_pathos.py:79\u001b[39m, in \u001b[36mmap_or_starmap\u001b[39m\u001b[34m(which, func, iterable, args, kwargs, tqdm_kwargs)\u001b[39m\n\u001b[32m     77\u001b[39m     pool.close()\n\u001b[32m     78\u001b[39m async_pbar(result, n_tasks, chunksize, tqdm_kwargs)\n\u001b[32m---> \u001b[39m\u001b[32m79\u001b[39m output = \u001b[43mresult\u001b[49m\u001b[43m.\u001b[49m\u001b[43mget\u001b[49m\u001b[43m(\u001b[49m\u001b[43m)\u001b[49m\n\u001b[32m     80\u001b[39m \u001b[38;5;28;01mif\u001b[39;00m close_pool:\n\u001b[32m     81\u001b[39m     pool.join()\n",
      "\u001b[36mFile \u001b[39m\u001b[32m~/miniconda3/envs/py312/lib/python3.12/site-packages/multiprocess/pool.py:774\u001b[39m, in \u001b[36mApplyResult.get\u001b[39m\u001b[34m(self, timeout)\u001b[39m\n\u001b[32m    772\u001b[39m     \u001b[38;5;28;01mreturn\u001b[39;00m \u001b[38;5;28mself\u001b[39m._value\n\u001b[32m    773\u001b[39m \u001b[38;5;28;01melse\u001b[39;00m:\n\u001b[32m--> \u001b[39m\u001b[32m774\u001b[39m     \u001b[38;5;28;01mraise\u001b[39;00m \u001b[38;5;28mself\u001b[39m._value\n",
      "\u001b[31mTypeError\u001b[39m: _pathos_tqdm_integrate_worker() got an unexpected keyword argument 'maxtasksperchild'"
     ]
    }
   ],
   "source": [
    "results = bm._pathos_tqdm_integrate(bm.integrate_args,regions=ranges)"
   ]
  },
  {
   "cell_type": "code",
   "execution_count": 106,
   "id": "fa745921",
   "metadata": {},
   "outputs": [
    {
     "ename": "NameError",
     "evalue": "name 'Full' is not defined",
     "output_type": "error",
     "traceback": [
      "\u001b[31m---------------------------------------------------------------------------\u001b[39m",
      "\u001b[31mFull\u001b[39m                                      Traceback (most recent call last)",
      "\u001b[36mFile \u001b[39m\u001b[32m<string>:8\u001b[39m, in \u001b[36msafe_put\u001b[39m\u001b[34m(self, in_q, item, timeout)\u001b[39m\n",
      "\u001b[36mFile \u001b[39m\u001b[32m~/miniconda3/envs/py312/lib/python3.12/site-packages/multiprocess/queues.py:93\u001b[39m, in \u001b[36mQueue.put\u001b[39m\u001b[34m(self, obj, block, timeout)\u001b[39m\n\u001b[32m     92\u001b[39m \u001b[38;5;28;01mif\u001b[39;00m \u001b[38;5;129;01mnot\u001b[39;00m \u001b[38;5;28mself\u001b[39m._sem.acquire(block, timeout):\n\u001b[32m---> \u001b[39m\u001b[32m93\u001b[39m     \u001b[38;5;28;01mraise\u001b[39;00m Full\n\u001b[32m     95\u001b[39m \u001b[38;5;28;01mwith\u001b[39;00m \u001b[38;5;28mself\u001b[39m._notempty:\n",
      "\u001b[31mFull\u001b[39m: ",
      "\nDuring handling of the above exception, another exception occurred:\n",
      "\u001b[31mNameError\u001b[39m                                 Traceback (most recent call last)",
      "\u001b[36mCell\u001b[39m\u001b[36m \u001b[39m\u001b[32mIn[106]\u001b[39m\u001b[32m, line 4\u001b[39m\n\u001b[32m      2\u001b[39m bm.nworkers = \u001b[32m1\u001b[39m\n\u001b[32m      3\u001b[39m \u001b[38;5;66;03m#bm.n_images=600\u001b[39;00m\n\u001b[32m----> \u001b[39m\u001b[32m4\u001b[39m integration = \u001b[43mbm\u001b[49m\u001b[43m.\u001b[49m\u001b[43mintegrate\u001b[49m\u001b[43m(\u001b[49m\n\u001b[32m      5\u001b[39m \u001b[43m    \u001b[49m\u001b[43mregions\u001b[49m\u001b[43m \u001b[49m\u001b[43m=\u001b[49m\u001b[43m \u001b[49m\u001b[43mranges\u001b[49m\u001b[43m,\u001b[49m\u001b[43mintegrate_args\u001b[49m\u001b[43m=\u001b[49m\u001b[43mbm\u001b[49m\u001b[43m.\u001b[49m\u001b[43mintegrate_args\u001b[49m\n\u001b[32m      6\u001b[39m \u001b[43m)\u001b[49m\n",
      "\u001b[36mFile \u001b[39m\u001b[32m<string>:13\u001b[39m, in \u001b[36mintegrate\u001b[39m\u001b[34m(self, integrate_args, regions)\u001b[39m\n",
      "\u001b[36mFile \u001b[39m\u001b[32m<string>:10\u001b[39m, in \u001b[36msafe_put\u001b[39m\u001b[34m(self, in_q, item, timeout)\u001b[39m\n",
      "\u001b[31mNameError\u001b[39m: name 'Full' is not defined"
     ]
    }
   ],
   "source": [
    "os.environ['OMP_NUM_THREADS'] = '1'\n",
    "bm.nworkers = 1\n",
    "#bm.n_images=600\n",
    "integration = bm.integrate(\n",
    "    regions = ranges,integrate_args=bm.integrate_args\n",
    ")"
   ]
  },
  {
   "cell_type": "code",
   "execution_count": 107,
   "id": "82fa9bf7",
   "metadata": {},
   "outputs": [
    {
     "data": {
      "text/plain": [
       "False"
      ]
     },
     "execution_count": 107,
     "metadata": {},
     "output_type": "execute_result"
    }
   ],
   "source": [
    "from pathos.helpers import mp as pmp \n",
    "\n",
    "ctx = pmp.get_context('spawn')\n",
    "in_queue = ctx.Queue()\n",
    "in_queue.full()"
   ]
  },
  {
   "cell_type": "code",
   "execution_count": null,
   "id": "4f40024f",
   "metadata": {},
   "outputs": [
    {
     "name": "stdout",
     "output_type": "stream",
     "text": [
      "\u001b[31mSignature:\u001b[39m\n",
      "tqdm_pathos.map(\n",
      "    func,\n",
      "    iterable,\n",
      "    *args,\n",
      "    n_cpus=\u001b[32m10\u001b[39m,\n",
      "    pool=\u001b[38;5;28;01mNone\u001b[39;00m,\n",
      "    tqdm_kwargs={},\n",
      "    **kwargs,\n",
      ")\n",
      "\u001b[31mDocstring:\u001b[39m <no docstring>\n",
      "\u001b[31mFile:\u001b[39m      ~/miniconda3/envs/py312/lib/python3.12/site-packages/tqdm_pathos/tqdm_pathos.py\n",
      "\u001b[31mType:\u001b[39m      function"
     ]
    }
   ],
   "source": [
    "import tqdm_pathos\n",
    "\n",
    "pool= tqdm_pathos.map()"
   ]
  }
 ],
 "metadata": {
  "kernelspec": {
   "display_name": "py311",
   "language": "python",
   "name": "python3"
  },
  "language_info": {
   "codemirror_mode": {
    "name": "ipython",
    "version": 3
   },
   "file_extension": ".py",
   "mimetype": "text/x-python",
   "name": "python",
   "nbconvert_exporter": "python",
   "pygments_lexer": "ipython3",
   "version": "3.11.9"
  }
 },
 "nbformat": 4,
 "nbformat_minor": 5
}
