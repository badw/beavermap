{
 "cells": [
  {
   "cell_type": "code",
   "execution_count": 1,
   "id": "3a862df3",
   "metadata": {},
   "outputs": [],
   "source": [
    "%load_ext autoreload\n",
    "%autoreload 2"
   ]
  },
  {
   "cell_type": "code",
   "execution_count": 9,
   "id": "981f6992",
   "metadata": {},
   "outputs": [],
   "source": [
    "from beavermap import BeaverMap\n",
    "import os "
   ]
  },
  {
   "cell_type": "code",
   "execution_count": 10,
   "id": "7906de85",
   "metadata": {},
   "outputs": [],
   "source": [
    "bm = BeaverMap(\n",
    "    h5_file = './data/al2o3_m330p0/al2o3_m330p0.h5',\n",
    "    poni_file = './data/m330p0.poni',\n",
    "    mask_file = './data/mask.edf',\n",
    "    chunk_size = 100,\n",
    "    location = '1.1/measurement/eiger',\n",
    "    nworkers = 1\n",
    ")"
   ]
  },
  {
   "cell_type": "code",
   "execution_count": 11,
   "id": "a25f108d",
   "metadata": {},
   "outputs": [],
   "source": [
    "import numpy as np \n",
    "n_images = 7200\n",
    "\n",
    "image_range = np.arange(7200)\n",
    "\n",
    "chunks = bm.data_chunker(n_images,600)\n"
   ]
  },
  {
   "cell_type": "code",
   "execution_count": 12,
   "id": "0a68f5ed",
   "metadata": {},
   "outputs": [],
   "source": [
    "#os.environ['OMP_NUM_THREADS'] = '1'\n",
    "#max_sum = bm.max_sum()"
   ]
  },
  {
   "cell_type": "code",
   "execution_count": 13,
   "id": "e1f53377",
   "metadata": {},
   "outputs": [],
   "source": [
    "#os.environ['OMP_NUM_THREADS'] = '10'\n",
    "#max_sum = bm.max_sum()"
   ]
  },
  {
   "cell_type": "code",
   "execution_count": 14,
   "id": "904d0cab",
   "metadata": {},
   "outputs": [],
   "source": [
    "#os.environ['OMP_NUM_THREADS'] = '1'\n",
    "#bm.nworkers = 4 \n",
    "#max_sum = bm.max_sum()"
   ]
  },
  {
   "cell_type": "code",
   "execution_count": 15,
   "id": "72193e30",
   "metadata": {},
   "outputs": [
    {
     "name": "stderr",
     "output_type": "stream",
     "text": [
      "performing integration.0 600.0/600|100%|███████████████████████| 01:22<    00:00\n",
      "performing integration.1 600.0/600|100%|███████████████████████| 01:24<    00:00\n",
      "performing integration.2 600.0/600|100%|███████████████████████| 01:23<    00:00\n",
      "performing integration.3 600.0/600|100%|███████████████████████| 01:27<    00:00\n",
      "performing integration.4 600.0/600|100%|███████████████████████| 01:24<    00:00\n",
      "performing integration.5 600.0/600|100%|███████████████████████| 01:37<    00:00\n",
      "Process SpawnProcess-27:\n",
      "Traceback (most recent call last):\n",
      "performing integration.6 600.0/600|100%|███████████████████████| 01:29<    00:00\n",
      "performing integration.7 600.0/600|100%|███████████████████████| 01:23<    00:00\n",
      "performing integration.8 600.0/600|100%|███████████████████████| 01:23<    00:00\n",
      "performing integration.9 600.0/600|100%|███████████████████████| 01:24<    00:00\n",
      "performing integration.10 600.0/600|100%|██████████████████████| 01:22<    00:00\n",
      "performing integration.11 600.0/600|100%|██████████████████████| 01:23<    00:00\n"
     ]
    }
   ],
   "source": [
    "os.environ['OMP_NUM_THREADS'] = '1'\n",
    "bm.nworkers = 4 \n",
    "integration = bm.integrate(regions = [[0,3]],chunksize=600)"
   ]
  },
  {
   "cell_type": "code",
   "execution_count": 16,
   "id": "3dfef8b7",
   "metadata": {},
   "outputs": [
    {
     "data": {
      "text/plain": [
       "array([[[[0., 0., 0., ..., 0., 0., 0.],\n",
       "         [0., 0., 0., ..., 0., 0., 0.],\n",
       "         [0., 0., 0., ..., 0., 0., 0.],\n",
       "         ...,\n",
       "         [0., 0., 0., ..., 0., 0., 0.],\n",
       "         [0., 0., 0., ..., 0., 0., 0.],\n",
       "         [0., 0., 0., ..., 0., 0., 0.]]],\n",
       "\n",
       "\n",
       "       [[[0., 0., 0., ..., 0., 0., 0.],\n",
       "         [0., 0., 0., ..., 0., 0., 0.],\n",
       "         [0., 0., 0., ..., 0., 0., 0.],\n",
       "         ...,\n",
       "         [0., 0., 0., ..., 0., 0., 0.],\n",
       "         [0., 0., 0., ..., 0., 0., 0.],\n",
       "         [0., 0., 0., ..., 0., 0., 0.]]],\n",
       "\n",
       "\n",
       "       [[[0., 0., 0., ..., 0., 0., 0.],\n",
       "         [0., 0., 0., ..., 0., 0., 0.],\n",
       "         [0., 0., 0., ..., 0., 0., 0.],\n",
       "         ...,\n",
       "         [0., 0., 0., ..., 0., 0., 0.],\n",
       "         [0., 0., 0., ..., 0., 0., 0.],\n",
       "         [0., 0., 0., ..., 0., 0., 0.]]],\n",
       "\n",
       "\n",
       "       ...,\n",
       "\n",
       "\n",
       "       [[[0., 0., 0., ..., 0., 0., 0.],\n",
       "         [0., 0., 0., ..., 0., 0., 0.],\n",
       "         [0., 0., 0., ..., 0., 0., 0.],\n",
       "         ...,\n",
       "         [0., 0., 0., ..., 0., 0., 0.],\n",
       "         [0., 0., 0., ..., 0., 0., 0.],\n",
       "         [0., 0., 0., ..., 0., 0., 0.]]],\n",
       "\n",
       "\n",
       "       [[[0., 0., 0., ..., 0., 0., 0.],\n",
       "         [0., 0., 0., ..., 0., 0., 0.],\n",
       "         [0., 0., 0., ..., 0., 0., 0.],\n",
       "         ...,\n",
       "         [0., 0., 0., ..., 0., 0., 0.],\n",
       "         [0., 0., 0., ..., 0., 0., 0.],\n",
       "         [0., 0., 0., ..., 0., 0., 0.]]],\n",
       "\n",
       "\n",
       "       [[[0., 0., 0., ..., 0., 0., 0.],\n",
       "         [0., 0., 0., ..., 0., 0., 0.],\n",
       "         [0., 0., 0., ..., 0., 0., 0.],\n",
       "         ...,\n",
       "         [0., 0., 0., ..., 0., 0., 0.],\n",
       "         [0., 0., 0., ..., 0., 0., 0.],\n",
       "         [0., 0., 0., ..., 0., 0., 0.]]]])"
      ]
     },
     "execution_count": 16,
     "metadata": {},
     "output_type": "execute_result"
    }
   ],
   "source": [
    "integration"
   ]
  },
  {
   "cell_type": "code",
   "execution_count": null,
   "id": "22fece00",
   "metadata": {},
   "outputs": [],
   "source": []
  }
 ],
 "metadata": {
  "kernelspec": {
   "display_name": "py311",
   "language": "python",
   "name": "python3"
  },
  "language_info": {
   "codemirror_mode": {
    "name": "ipython",
    "version": 3
   },
   "file_extension": ".py",
   "mimetype": "text/x-python",
   "name": "python",
   "nbconvert_exporter": "python",
   "pygments_lexer": "ipython3",
   "version": "3.11.9"
  }
 },
 "nbformat": 4,
 "nbformat_minor": 5
}
