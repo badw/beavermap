{
 "cells": [
  {
   "cell_type": "code",
   "execution_count": 2,
   "id": "3a862df3",
   "metadata": {},
   "outputs": [],
   "source": [
    "%load_ext autoreload\n",
    "%autoreload 2"
   ]
  },
  {
   "cell_type": "code",
   "execution_count": 3,
   "id": "b27789fe",
   "metadata": {},
   "outputs": [],
   "source": [
    "ranges = [(9, 13),     # XLPE/EVA\n",
    "    (18.957, 19, 357),\n",
    "    (13.879, 14.103),  # Graphite\n",
    "    (11.017, 11.068),  # Mica\n",
    "    (12.226, 12.396),\n",
    "    (13.426, 13.603),\n",
    "    (16.484, 16.660),\n",
    "    (14.393, 14.793),  # NaCl\n",
    "    (16.663, 17.063),\n",
    "    (23.733, 24.133),\n",
    "    (27.933, 28.333),\n",
    "    (29.213, 29.613),\n",
    "    (33.950, 34.250),\n",
    "    (37.043, 37.443),\n",
    "    (38.048, 38.448),\n",
    "    (41.940, 42.200),\n",
    "    (44.630, 44.859),\n",
    "    (14.993, 15.173),  # KCl\n",
    "    (21.303, 21.484),\n",
    "    (25.169, 25.324),\n",
    "    (26.124, 26.472),\n",
    "    (15.522, 15.803),  # CaCO3\n",
    "    (19.054, 19.154),\n",
    "    (20.720, 20.948),\n",
    "    (22.690, 22.815),\n",
    "    (24.650, 24.812),\n",
    "    (25.328, 25.596),\n",
    "    (29.687, 29.917),\n",
    "    (31.276, 31.910),\n",
    "    (33.147, 33.501),\n",
    "    (33.753, 33.946),\n",
    "    (19.154, 19.368),  # ZnO\n",
    "    (18.193, 18.464),\n",
    "    (24.873, 25.117),\n",
    "    (32.292, 32.617),\n",
    "    (34.783, 35.007),\n",
    "    (35.227, 35.568),\n",
    "    (38.717, 39.275),\n",
    "    (44.330, 44.574),\n",
    "    (14.45, 14.70),    #Unknowns\n",
    "    (28.3, 28.5),\n",
    "    (26.55, 26.85),\n",
    "    (13, 13.2),\n",
    "    (17.75, 17.95),\n",
    "    (18.3, 18.7),\n",
    "    (24.26, 24.80),\n",
    "    (28.9, 29.10)\n",
    "              ]"
   ]
  },
  {
   "cell_type": "code",
   "execution_count": 4,
   "id": "867b607f",
   "metadata": {},
   "outputs": [],
   "source": [
    "from beavermap import BeaverMap\n",
    "import os \n",
    "bm = BeaverMap(\n",
    "    h5_file = './data/al2o3_m330p0/al2o3_m330p0.h5',\n",
    "    poni_file = './data/m330p0.poni',\n",
    "    mask_file = './data/mask.edf',\n",
    "    chunk_size = 100,\n",
    "    location = '1.1/measurement/eiger',\n",
    "    nworkers = 1,\n",
    ")\n",
    "bm.default_integrate_args\n"
   ]
  },
  {
   "cell_type": "code",
   "execution_count": 5,
   "id": "cf929430",
   "metadata": {},
   "outputs": [],
   "source": [
    "#results = bm._pathos_tqdm_integrate(bm.integrate_args,regions=ranges)"
   ]
  },
  {
   "cell_type": "markdown",
   "id": "2d53d41b",
   "metadata": {},
   "source": [
    "current testing "
   ]
  },
  {
   "cell_type": "code",
   "execution_count": null,
   "id": "3969a314",
   "metadata": {},
   "outputs": [],
   "source": [
    "import numpy as np \n",
    "import h5py\n",
    "@profile\n",
    "def func2():\n",
    "    image = 100\n",
    "    i0 = int(np.floor(image/bm.dim1))\n",
    "    i1 = image - bm.dim1 * int(np.floor(image / bm.dim1))    \n",
    "\n",
    "    with h5py.File(bm.h5_file,'r') as f:\n",
    "        integrate = np.array(\n",
    "            bm.ai.integrate1d(data=f[bm.location][image],     mask=bm.mask_data,\n",
    "            **bm.integrate_args)\n",
    "        )[0:2]\n",
    "        print(integrate.nbytes/1024/1024)\n",
    "        full_data_2 = np.zeros((len(ranges), bm.dim0, bm.    dim1))\n",
    "        for i, r in enumerate(ranges):\n",
    "        _arrmask = (integrate[0] >= r[0]) & (integrate[0]     <= r[1])\n",
    "        full_data_2[i][i0, i1] = np.sum(integrate[1]    [_arrmask])    \n",
    "\n",
    "        print(full_data_2.nbytes/1024/1024)"
   ]
  },
  {
   "cell_type": "markdown",
   "id": "03a343ec",
   "metadata": {},
   "source": [
    "runner"
   ]
  },
  {
   "cell_type": "code",
   "execution_count": null,
   "id": "fa745921",
   "metadata": {},
   "outputs": [
    {
     "name": "stderr",
     "output_type": "stream",
     "text": [
      "performing integration 0/7200|  0%|                                | 00:08<    ?\n"
     ]
    },
    {
     "ename": "KeyboardInterrupt",
     "evalue": "",
     "output_type": "error",
     "traceback": [
      "\u001b[31m---------------------------------------------------------------------------\u001b[39m",
      "\u001b[31mKeyboardInterrupt\u001b[39m                         Traceback (most recent call last)",
      "\u001b[36mCell\u001b[39m\u001b[36m \u001b[39m\u001b[32mIn[58]\u001b[39m\u001b[32m, line 4\u001b[39m\n\u001b[32m      2\u001b[39m bm.nworkers = \u001b[32m1\u001b[39m\n\u001b[32m      3\u001b[39m \u001b[38;5;66;03m#bm.n_images=600\u001b[39;00m\n\u001b[32m----> \u001b[39m\u001b[32m4\u001b[39m integration = \u001b[43mbm\u001b[49m\u001b[43m.\u001b[49m\u001b[43mintegrate\u001b[49m\u001b[43m(\u001b[49m\n\u001b[32m      5\u001b[39m \u001b[43m    \u001b[49m\u001b[43mregions\u001b[49m\u001b[43m \u001b[49m\u001b[43m=\u001b[49m\u001b[43m \u001b[49m\u001b[43mranges\u001b[49m\u001b[43m,\u001b[49m\u001b[43mintegrate_args\u001b[49m\u001b[43m=\u001b[49m\u001b[43mbm\u001b[49m\u001b[43m.\u001b[49m\u001b[43mintegrate_args\u001b[49m\n\u001b[32m      6\u001b[39m \u001b[43m)\u001b[49m\n",
      "\u001b[36mFile \u001b[39m\u001b[32m~/github-projects/beavermap/src/beavermap.py:290\u001b[39m, in \u001b[36mintegrate\u001b[39m\u001b[34m(self, integrate_args, regions)\u001b[39m\n\u001b[32m      0\u001b[39m <Error retrieving source code with stack_data see ipython/ipython#13598>\n",
      "\u001b[36mFile \u001b[39m\u001b[32m~/github-projects/beavermap/src/beavermap.py:144\u001b[39m, in \u001b[36mBeaverMap.get_result_from_queue\u001b[39m\u001b[34m(self, pbar, ii)\u001b[39m\n\u001b[32m    141\u001b[39m \u001b[38;5;28;01mdef\u001b[39;00m\u001b[38;5;250m \u001b[39m\u001b[34mget_result_from_queue\u001b[39m(\u001b[38;5;28mself\u001b[39m,pbar=\u001b[38;5;28;01mNone\u001b[39;00m,ii=\u001b[38;5;28;01mNone\u001b[39;00m):\n\u001b[32m    142\u001b[39m     \u001b[38;5;66;03m# handle exception gracefully to avoid hanging rocesses\u001b[39;00m\n\u001b[32m    143\u001b[39m     \u001b[38;5;28;01mtry\u001b[39;00m:\n\u001b[32m--> \u001b[39m\u001b[32m144\u001b[39m         result = \u001b[38;5;28;43mself\u001b[39;49m\u001b[43m.\u001b[49m\u001b[43mout_queue\u001b[49m\u001b[43m.\u001b[49m\u001b[43mget\u001b[49m\u001b[43m(\u001b[49m\u001b[43mtimeout\u001b[49m\u001b[43m=\u001b[49m\u001b[32;43m20\u001b[39;49m\u001b[43m)\u001b[49m\n\u001b[32m    145\u001b[39m         \u001b[38;5;28;01mif\u001b[39;00m pbar \u001b[38;5;129;01mand\u001b[39;00m ii:\n\u001b[32m    146\u001b[39m             pbar.update(ii)\n",
      "\u001b[36mFile \u001b[39m\u001b[32m~/miniconda3/envs/py312/lib/python3.12/site-packages/multiprocess/queues.py:116\u001b[39m, in \u001b[36mQueue.get\u001b[39m\u001b[34m(self, block, timeout)\u001b[39m\n\u001b[32m    114\u001b[39m \u001b[38;5;28;01mif\u001b[39;00m block:\n\u001b[32m    115\u001b[39m     timeout = deadline - \u001b[38;5;28mgetattr\u001b[39m(time,\u001b[33m'\u001b[39m\u001b[33mmonotonic\u001b[39m\u001b[33m'\u001b[39m,time.time)()\n\u001b[32m--> \u001b[39m\u001b[32m116\u001b[39m     \u001b[38;5;28;01mif\u001b[39;00m \u001b[38;5;129;01mnot\u001b[39;00m \u001b[38;5;28;43mself\u001b[39;49m\u001b[43m.\u001b[49m\u001b[43m_poll\u001b[49m\u001b[43m(\u001b[49m\u001b[43mtimeout\u001b[49m\u001b[43m)\u001b[49m:\n\u001b[32m    117\u001b[39m         \u001b[38;5;28;01mraise\u001b[39;00m Empty\n\u001b[32m    118\u001b[39m \u001b[38;5;28;01melif\u001b[39;00m \u001b[38;5;129;01mnot\u001b[39;00m \u001b[38;5;28mself\u001b[39m._poll():\n",
      "\u001b[36mFile \u001b[39m\u001b[32m~/miniconda3/envs/py312/lib/python3.12/site-packages/multiprocess/connection.py:260\u001b[39m, in \u001b[36m_ConnectionBase.poll\u001b[39m\u001b[34m(self, timeout)\u001b[39m\n\u001b[32m    258\u001b[39m \u001b[38;5;28mself\u001b[39m._check_closed()\n\u001b[32m    259\u001b[39m \u001b[38;5;28mself\u001b[39m._check_readable()\n\u001b[32m--> \u001b[39m\u001b[32m260\u001b[39m \u001b[38;5;28;01mreturn\u001b[39;00m \u001b[38;5;28;43mself\u001b[39;49m\u001b[43m.\u001b[49m\u001b[43m_poll\u001b[49m\u001b[43m(\u001b[49m\u001b[43mtimeout\u001b[49m\u001b[43m)\u001b[49m\n",
      "\u001b[36mFile \u001b[39m\u001b[32m~/miniconda3/envs/py312/lib/python3.12/site-packages/multiprocess/connection.py:443\u001b[39m, in \u001b[36mConnection._poll\u001b[39m\u001b[34m(self, timeout)\u001b[39m\n\u001b[32m    442\u001b[39m \u001b[38;5;28;01mdef\u001b[39;00m\u001b[38;5;250m \u001b[39m\u001b[34m_poll\u001b[39m(\u001b[38;5;28mself\u001b[39m, timeout):\n\u001b[32m--> \u001b[39m\u001b[32m443\u001b[39m     r = \u001b[43mwait\u001b[49m\u001b[43m(\u001b[49m\u001b[43m[\u001b[49m\u001b[38;5;28;43mself\u001b[39;49m\u001b[43m]\u001b[49m\u001b[43m,\u001b[49m\u001b[43m \u001b[49m\u001b[43mtimeout\u001b[49m\u001b[43m)\u001b[49m\n\u001b[32m    444\u001b[39m     \u001b[38;5;28;01mreturn\u001b[39;00m \u001b[38;5;28mbool\u001b[39m(r)\n",
      "\u001b[36mFile \u001b[39m\u001b[32m~/miniconda3/envs/py312/lib/python3.12/site-packages/multiprocess/connection.py:1140\u001b[39m, in \u001b[36mwait\u001b[39m\u001b[34m(object_list, timeout)\u001b[39m\n\u001b[32m   1137\u001b[39m     deadline = \u001b[38;5;28mgetattr\u001b[39m(time,\u001b[33m'\u001b[39m\u001b[33mmonotonic\u001b[39m\u001b[33m'\u001b[39m,time.time)() + timeout\n\u001b[32m   1139\u001b[39m \u001b[38;5;28;01mwhile\u001b[39;00m \u001b[38;5;28;01mTrue\u001b[39;00m:\n\u001b[32m-> \u001b[39m\u001b[32m1140\u001b[39m     ready = \u001b[43mselector\u001b[49m\u001b[43m.\u001b[49m\u001b[43mselect\u001b[49m\u001b[43m(\u001b[49m\u001b[43mtimeout\u001b[49m\u001b[43m)\u001b[49m\n\u001b[32m   1141\u001b[39m     \u001b[38;5;28;01mif\u001b[39;00m ready:\n\u001b[32m   1142\u001b[39m         \u001b[38;5;28;01mreturn\u001b[39;00m [key.fileobj \u001b[38;5;28;01mfor\u001b[39;00m (key, events) \u001b[38;5;129;01min\u001b[39;00m ready]\n",
      "\u001b[36mFile \u001b[39m\u001b[32m~/miniconda3/envs/py312/lib/python3.12/selectors.py:415\u001b[39m, in \u001b[36m_PollLikeSelector.select\u001b[39m\u001b[34m(self, timeout)\u001b[39m\n\u001b[32m    413\u001b[39m ready = []\n\u001b[32m    414\u001b[39m \u001b[38;5;28;01mtry\u001b[39;00m:\n\u001b[32m--> \u001b[39m\u001b[32m415\u001b[39m     fd_event_list = \u001b[38;5;28;43mself\u001b[39;49m\u001b[43m.\u001b[49m\u001b[43m_selector\u001b[49m\u001b[43m.\u001b[49m\u001b[43mpoll\u001b[49m\u001b[43m(\u001b[49m\u001b[43mtimeout\u001b[49m\u001b[43m)\u001b[49m\n\u001b[32m    416\u001b[39m \u001b[38;5;28;01mexcept\u001b[39;00m \u001b[38;5;167;01mInterruptedError\u001b[39;00m:\n\u001b[32m    417\u001b[39m     \u001b[38;5;28;01mreturn\u001b[39;00m ready\n",
      "\u001b[31mKeyboardInterrupt\u001b[39m: "
     ]
    },
    {
     "name": "stderr",
     "output_type": "stream",
     "text": [
      "Process SpawnProcess-1:\n",
      "Traceback (most recent call last):\n",
      "  File \"/Users/badw/miniconda3/envs/py312/lib/python3.12/site-packages/multiprocess/process.py\", line 314, in _bootstrap\n",
      "    self.run()\n",
      "  File \"/Users/badw/miniconda3/envs/py312/lib/python3.12/site-packages/multiprocess/process.py\", line 108, in run\n",
      "    self._target(*self._args, **self._kwargs)\n",
      "  File \"/Users/badw/github-projects/beavermap/src/beavermap.py\", line 229, in integrate_worker\n",
      "    self.ai.integrate1d(\n",
      "  File \"/Users/badw/miniconda3/envs/py312/lib/python3.12/site-packages/pyFAI/integrator/azimuthal.py\", line 510, in integrate1d\n",
      "    intpl = integr(weights=data, variance=variance,\n",
      "            ^^^^^^^^^^^^^^^^^^^^^^^^^^^^^^^^^^^^^^^\n",
      "  File \"splitPixel.pyx\", line 477, in pyFAI.ext.splitPixel.fullSplit1D_engine\n",
      "  File \"/Users/badw/miniconda3/envs/py312/lib/python3.12/site-packages/numpy/core/function_base.py\", line 19, in _linspace_dispatcher\n",
      "    def _linspace_dispatcher(start, stop, num=None, endpoint=None, retstep=None,\n",
      "    \n",
      "KeyboardInterrupt\n"
     ]
    },
    {
     "ename": "",
     "evalue": "",
     "output_type": "error",
     "traceback": [
      "\u001b[1;31mThe Kernel crashed while executing code in the current cell or a previous cell. \n",
      "\u001b[1;31mPlease review the code in the cell(s) to identify a possible cause of the failure. \n",
      "\u001b[1;31mClick <a href='https://aka.ms/vscodeJupyterKernelCrash'>here</a> for more info. \n",
      "\u001b[1;31mView Jupyter <a href='command:jupyter.viewOutput'>log</a> for further details."
     ]
    }
   ],
   "source": [
    "os.environ['OMP_NUM_THREADS'] = '1'\n",
    "bm.nworkers = 1\n",
    "#bm.n_images=600\n",
    "integration = bm.integrate(\n",
    "    regions = ranges,integrate_args=bm.integrate_args\n",
    ")"
   ]
  }
 ],
 "metadata": {
  "kernelspec": {
   "display_name": "py311",
   "language": "python",
   "name": "python3"
  },
  "language_info": {
   "codemirror_mode": {
    "name": "ipython",
    "version": 3
   },
   "file_extension": ".py",
   "mimetype": "text/x-python",
   "name": "python",
   "nbconvert_exporter": "python",
   "pygments_lexer": "ipython3",
   "version": "3.11.9"
  }
 },
 "nbformat": 4,
 "nbformat_minor": 5
}
