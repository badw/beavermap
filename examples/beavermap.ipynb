{
 "cells": [
  {
   "cell_type": "code",
   "execution_count": null,
   "id": "3a862df3",
   "metadata": {},
   "outputs": [],
   "source": [
    "%load_ext autoreload\n",
    "%autoreload 2"
   ]
  },
  {
   "cell_type": "code",
   "execution_count": null,
   "id": "b27789fe",
   "metadata": {},
   "outputs": [],
   "source": [
    "ranges = [(9, 13),     # XLPE/EVA\n",
    "    (18.957, 19, 357),\n",
    "    (13.879, 14.103),  # Graphite\n",
    "    (11.017, 11.068),  # Mica\n",
    "    (12.226, 12.396),\n",
    "    (13.426, 13.603),\n",
    "    (16.484, 16.660),\n",
    "    (14.393, 14.793),  # NaCl\n",
    "    (16.663, 17.063),\n",
    "    (23.733, 24.133),\n",
    "    (27.933, 28.333),\n",
    "    (29.213, 29.613),\n",
    "    (33.950, 34.250),\n",
    "    (37.043, 37.443),\n",
    "    (38.048, 38.448),\n",
    "    (41.940, 42.200),\n",
    "    (44.630, 44.859),\n",
    "    (14.993, 15.173),  # KCl\n",
    "    (21.303, 21.484),\n",
    "    (25.169, 25.324),\n",
    "    (26.124, 26.472),\n",
    "    (15.522, 15.803),  # CaCO3\n",
    "    (19.054, 19.154),\n",
    "    (20.720, 20.948),\n",
    "    (22.690, 22.815),\n",
    "    (24.650, 24.812),\n",
    "    (25.328, 25.596),\n",
    "    (29.687, 29.917),\n",
    "    (31.276, 31.910),\n",
    "    (33.147, 33.501),\n",
    "    (33.753, 33.946),\n",
    "    (19.154, 19.368),  # ZnO\n",
    "    (18.193, 18.464),\n",
    "    (24.873, 25.117),\n",
    "    (32.292, 32.617),\n",
    "    (34.783, 35.007),\n",
    "    (35.227, 35.568),\n",
    "    (38.717, 39.275),\n",
    "    (44.330, 44.574),\n",
    "    (14.45, 14.70),    #Unknowns\n",
    "    (28.3, 28.5),\n",
    "    (26.55, 26.85),\n",
    "    (13, 13.2),\n",
    "    (17.75, 17.95),\n",
    "    (18.3, 18.7),\n",
    "    (24.26, 24.80),\n",
    "    (28.9, 29.10)\n",
    "              ]"
   ]
  },
  {
   "cell_type": "code",
   "execution_count": null,
   "id": "867b607f",
   "metadata": {},
   "outputs": [],
   "source": [
    "from beavermap import BeaverMap\n",
    "import os \n",
    "bm = BeaverMap(\n",
    "    h5_file = './data/al2o3_m330p0/al2o3_m330p0.h5',\n",
    "    poni_file = './data/m330p0.poni',\n",
    "    mask_file = './data/mask.edf',\n",
    "    chunk_size = 100,\n",
    "    location = '1.1/measurement/eiger',\n",
    "    nworkers = 1,\n",
    ")\n",
    "bm.default_integrate_args\n"
   ]
  },
  {
   "cell_type": "code",
   "execution_count": null,
   "id": "cf929430",
   "metadata": {},
   "outputs": [],
   "source": [
    "results = bm._tqdm_runner(chunk_size=10,regions=ranges)"
   ]
  },
  {
   "cell_type": "code",
   "execution_count": null,
   "id": "47310d7e",
   "metadata": {},
   "outputs": [],
   "source": [
    "import numpy as np \n",
    "import matplotlib.pyplot as plt \n",
    "test = np.sum(results,axis=0)\n",
    "\n",
    "fig,ax = plt.subplots(figsize=(6,6),dpi=100)\n",
    "ax.imshow(test[0])"
   ]
  },
  {
   "cell_type": "markdown",
   "id": "2d53d41b",
   "metadata": {},
   "source": [
    "current testing "
   ]
  },
  {
   "cell_type": "code",
   "execution_count": null,
   "id": "3969a314",
   "metadata": {},
   "outputs": [],
   "source": [
    "import numpy as np\n",
    "import h5py\n",
    "\n",
    "image = 100\n",
    "i0 = int(np.floor(image / bm.dim1))\n",
    "i1 = image - bm.dim1 * int(np.floor(image / bm.dim1))\n",
    "\n",
    "with h5py.File(bm.h5_file, \"r\") as f:\n",
    "    data = f[bm.location][image]\n",
    "\n",
    "\n",
    "integrate = np.array(\n",
    "    bm.ai.integrate1d(data=data, mask=bm.mask_data, **bm.integrate_args)\n",
    ")[0:2]\n",
    "print(integrate.nbytes / 1024 / 1024)\n",
    "full_data_2 = np.zeros((len(ranges), bm.dim0, bm.dim1))\n",
    "for i, r in enumerate(ranges):\n",
    "    _arrmask = (integrate[0] >= r[0]) & (integrate[0] <= r[1])\n",
    "    full_data_2[i][i0, i1] = np.sum(integrate[1][_arrmask])\n",
    "\n",
    "print(full_data_2.nbytes / 1024 / 1024)\n"
   ]
  },
  {
   "cell_type": "code",
   "execution_count": null,
   "id": "202a7108",
   "metadata": {},
   "outputs": [],
   "source": [
    "integrate = np.array(bm.ai.integrate1d(data=data,mask=bm.mask_data,**bm.integrate_args),copy=False)"
   ]
  },
  {
   "cell_type": "code",
   "execution_count": null,
   "id": "621aa6ca",
   "metadata": {},
   "outputs": [],
   "source": [
    "np.asarray?"
   ]
  },
  {
   "cell_type": "markdown",
   "id": "03a343ec",
   "metadata": {},
   "source": [
    "runner"
   ]
  },
  {
   "cell_type": "code",
   "execution_count": null,
   "id": "e9c32f37",
   "metadata": {},
   "outputs": [],
   "source": [
    "tqdm_pathos.map?"
   ]
  },
  {
   "cell_type": "code",
   "execution_count": 15,
   "id": "d29fd23a",
   "metadata": {},
   "outputs": [
    {
     "data": {
      "application/vnd.jupyter.widget-view+json": {
       "model_id": "972b4fce88004ce18d59c4af0cc5653b",
       "version_major": 2,
       "version_minor": 0
      },
      "text/plain": [
       "performing integration:   0%|                                                                                 …"
      ]
     },
     "metadata": {},
     "output_type": "display_data"
    }
   ],
   "source": [
    "import tqdm_pathos\n",
    "import numpy as np \n",
    "\n",
    "def funcky(a):\n",
    "    return(a)\n",
    "\n",
    "result = tqdm_pathos.map(funcky,np.arange(1000),tqdm_kwargs={'ncols':600,'desc':\"performing integration\"})"
   ]
  },
  {
   "cell_type": "code",
   "execution_count": null,
   "id": "b3ad7f20",
   "metadata": {},
   "outputs": [],
   "source": [
    "np.array(result).sum(axis=0)"
   ]
  },
  {
   "cell_type": "code",
   "execution_count": null,
   "id": "9b9c78f8",
   "metadata": {},
   "outputs": [],
   "source": [
    "result = tqdm_pathos.map(funcky,np.arange(1000).reshape(-1,100))"
   ]
  },
  {
   "cell_type": "code",
   "execution_count": null,
   "id": "6534d595",
   "metadata": {},
   "outputs": [],
   "source": []
  },
  {
   "cell_type": "code",
   "execution_count": null,
   "id": "9a642a7b",
   "metadata": {},
   "outputs": [],
   "source": [
    "np.arange(bm.n_images)"
   ]
  },
  {
   "cell_type": "code",
   "execution_count": null,
   "id": "fa745921",
   "metadata": {},
   "outputs": [],
   "source": [
    "os.environ['OMP_NUM_THREADS'] = '1'\n",
    "bm.nworkers = 1\n",
    "#bm.n_images=600\n",
    "integration = bm.integrate(\n",
    "    regions = ranges,integrate_args=bm.integrate_args\n",
    ")"
   ]
  }
 ],
 "metadata": {
  "kernelspec": {
   "display_name": "py311",
   "language": "python",
   "name": "python3"
  },
  "language_info": {
   "codemirror_mode": {
    "name": "ipython",
    "version": 3
   },
   "file_extension": ".py",
   "mimetype": "text/x-python",
   "name": "python",
   "nbconvert_exporter": "python",
   "pygments_lexer": "ipython3",
   "version": "3.11.9"
  }
 },
 "nbformat": 4,
 "nbformat_minor": 5
}
