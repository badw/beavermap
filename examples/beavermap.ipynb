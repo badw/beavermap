{
 "cells": [
  {
   "cell_type": "code",
   "execution_count": 1,
   "id": "3a862df3",
   "metadata": {},
   "outputs": [],
   "source": [
    "%load_ext autoreload\n",
    "%autoreload 2"
   ]
  },
  {
   "cell_type": "code",
   "execution_count": 28,
   "id": "981f6992",
   "metadata": {},
   "outputs": [],
   "source": [
    "from beavermap import BeaverMap\n",
    "import os "
   ]
  },
  {
   "cell_type": "code",
   "execution_count": 29,
   "id": "7906de85",
   "metadata": {},
   "outputs": [],
   "source": [
    "bm = BeaverMap(\n",
    "    h5_file = './data/al2o3_m330p0/al2o3_m330p0.h5',\n",
    "    poni_file = './data/m330p0.poni',\n",
    "    mask_file = './data/mask.edf',\n",
    "    chunk_size = 100,\n",
    "    location = '1.1/measurement/eiger',\n",
    "    nworkers = 1\n",
    ")"
   ]
  },
  {
   "cell_type": "code",
   "execution_count": 23,
   "id": "0a68f5ed",
   "metadata": {},
   "outputs": [
    {
     "name": "stderr",
     "output_type": "stream",
     "text": [
      "performing max summation. images: 7200/7200|100%|██████████████████| 00:20<00:00\n"
     ]
    }
   ],
   "source": [
    "os.environ['OMP_NUM_THREADS'] = '1'\n",
    "max_sum = bm.max_sum()"
   ]
  },
  {
   "cell_type": "code",
   "execution_count": 24,
   "id": "e1f53377",
   "metadata": {},
   "outputs": [
    {
     "name": "stderr",
     "output_type": "stream",
     "text": [
      "performing max summation. images: 7200/7200|100%|██████████████████| 00:19<00:00\n"
     ]
    }
   ],
   "source": [
    "os.environ['OMP_NUM_THREADS'] = '10'\n",
    "max_sum = bm.max_sum()"
   ]
  },
  {
   "cell_type": "code",
   "execution_count": 25,
   "id": "904d0cab",
   "metadata": {},
   "outputs": [
    {
     "name": "stderr",
     "output_type": "stream",
     "text": [
      "performing max summation. images: 7200/7200|100%|██████████████████| 00:07<00:00\n"
     ]
    }
   ],
   "source": [
    "os.environ['OMP_NUM_THREADS'] = '1'\n",
    "bm.nworkers = 4 \n",
    "max_sum = bm.max_sum()"
   ]
  },
  {
   "cell_type": "code",
   "execution_count": 32,
   "id": "d17e52ae",
   "metadata": {},
   "outputs": [
    {
     "name": "stderr",
     "output_type": "stream",
     "text": [
      "performing integration. 0/7200|  0%|                                   | 09:53<?\n",
      "Process SpawnProcess-22:\n",
      "Traceback (most recent call last):\n",
      "  File \"/Users/badw/miniconda3/envs/py311/lib/python3.11/site-packages/multiprocess/process.py\", line 314, in _bootstrap\n",
      "    self.run()\n",
      "  File \"/Users/badw/miniconda3/envs/py311/lib/python3.11/site-packages/multiprocess/process.py\", line 108, in run\n",
      "    self._target(*self._args, **self._kwargs)\n",
      "  File \"/Users/badw/github-projects/beavermap/src/beavermap.py\", line 177, in integrate_worker\n",
      "    self.ai.integrate1d(\n",
      "  File \"/Users/badw/miniconda3/envs/py311/lib/python3.11/site-packages/pyFAI/azimuthalIntegrator.py\", line 1514, in integrate1d_ng\n",
      "    intpl = integr(weights=data, variance=variance,\n",
      "            ^^^^^^^^^^^^^^^^^^^^^^^^^^^^^^^^^^^^^^^\n",
      "  File \"splitPixel.pyx\", line 342, in pyFAI.ext.splitPixel.fullSplit1D_engine\n",
      "  File \"splitpixel_common.pyx\", line 131, in pyFAI.ext.splitpixel_common.calc_boundaries\n",
      "  File \"<string>\", line 1, in <lambda>\n",
      "KeyboardInterrupt\n"
     ]
    },
    {
     "ename": "KeyboardInterrupt",
     "evalue": "",
     "output_type": "error",
     "traceback": [
      "\u001b[31m---------------------------------------------------------------------------\u001b[39m",
      "\u001b[31mKeyboardInterrupt\u001b[39m                         Traceback (most recent call last)",
      "\u001b[36mCell\u001b[39m\u001b[36m \u001b[39m\u001b[32mIn[32]\u001b[39m\u001b[32m, line 2\u001b[39m\n\u001b[32m      1\u001b[39m os.environ[\u001b[33m'\u001b[39m\u001b[33mOMP_NUM_THREADS\u001b[39m\u001b[33m'\u001b[39m] = \u001b[33m'\u001b[39m\u001b[33m10\u001b[39m\u001b[33m'\u001b[39m\n\u001b[32m----> \u001b[39m\u001b[32m2\u001b[39m \u001b[43mbm\u001b[49m\u001b[43m.\u001b[49m\u001b[43mintegrate\u001b[49m\u001b[43m(\u001b[49m\u001b[43mregions\u001b[49m\u001b[43m \u001b[49m\u001b[43m=\u001b[49m\u001b[43m \u001b[49m\u001b[43m[\u001b[49m\u001b[43m[\u001b[49m\u001b[32;43m0\u001b[39;49m\u001b[43m,\u001b[49m\u001b[32;43m3\u001b[39;49m\u001b[43m]\u001b[49m\u001b[43m,\u001b[49m\u001b[43m[\u001b[49m\u001b[32;43m4\u001b[39;49m\u001b[43m,\u001b[49m\u001b[32;43m10\u001b[39;49m\u001b[43m]\u001b[49m\u001b[43m]\u001b[49m\u001b[43m)\u001b[49m\n",
      "\u001b[36mFile \u001b[39m\u001b[32m<string>:32\u001b[39m, in \u001b[36mintegrate\u001b[39m\u001b[34m(self, integrate_args, sampling, regions)\u001b[39m\n",
      "\u001b[36mFile \u001b[39m\u001b[32m~/github-projects/beavermap/src/beavermap.py:97\u001b[39m, in \u001b[36mBeaverMap.get_result_from_queue\u001b[39m\u001b[34m(self, pbar, ii)\u001b[39m\n\u001b[32m     94\u001b[39m \u001b[38;5;28;01mdef\u001b[39;00m\u001b[38;5;250m \u001b[39m\u001b[34mget_result_from_queue\u001b[39m(\u001b[38;5;28mself\u001b[39m,pbar=\u001b[38;5;28;01mNone\u001b[39;00m,ii=\u001b[38;5;28;01mNone\u001b[39;00m):\n\u001b[32m     95\u001b[39m     \u001b[38;5;66;03m# handle exception gracefully to avoid hanging rocesses\u001b[39;00m\n\u001b[32m     96\u001b[39m     \u001b[38;5;28;01mtry\u001b[39;00m:\n\u001b[32m---> \u001b[39m\u001b[32m97\u001b[39m         result = \u001b[38;5;28;43mself\u001b[39;49m\u001b[43m.\u001b[49m\u001b[43mout_queue\u001b[49m\u001b[43m.\u001b[49m\u001b[43mget\u001b[49m\u001b[43m(\u001b[49m\u001b[43mtimeout\u001b[49m\u001b[43m=\u001b[49m\u001b[32;43m20\u001b[39;49m\u001b[43m)\u001b[49m\n\u001b[32m     98\u001b[39m         \u001b[38;5;28;01mif\u001b[39;00m pbar \u001b[38;5;129;01mand\u001b[39;00m ii:\n\u001b[32m     99\u001b[39m             pbar.update(ii)\n",
      "\u001b[36mFile \u001b[39m\u001b[32m~/miniconda3/envs/py311/lib/python3.11/site-packages/multiprocess/queues.py:116\u001b[39m, in \u001b[36mQueue.get\u001b[39m\u001b[34m(self, block, timeout)\u001b[39m\n\u001b[32m    114\u001b[39m \u001b[38;5;28;01mif\u001b[39;00m block:\n\u001b[32m    115\u001b[39m     timeout = deadline - \u001b[38;5;28mgetattr\u001b[39m(time,\u001b[33m'\u001b[39m\u001b[33mmonotonic\u001b[39m\u001b[33m'\u001b[39m,time.time)()\n\u001b[32m--> \u001b[39m\u001b[32m116\u001b[39m     \u001b[38;5;28;01mif\u001b[39;00m \u001b[38;5;129;01mnot\u001b[39;00m \u001b[38;5;28;43mself\u001b[39;49m\u001b[43m.\u001b[49m\u001b[43m_poll\u001b[49m\u001b[43m(\u001b[49m\u001b[43mtimeout\u001b[49m\u001b[43m)\u001b[49m:\n\u001b[32m    117\u001b[39m         \u001b[38;5;28;01mraise\u001b[39;00m Empty\n\u001b[32m    118\u001b[39m \u001b[38;5;28;01melif\u001b[39;00m \u001b[38;5;129;01mnot\u001b[39;00m \u001b[38;5;28mself\u001b[39m._poll():\n",
      "\u001b[36mFile \u001b[39m\u001b[32m~/miniconda3/envs/py311/lib/python3.11/site-packages/multiprocess/connection.py:260\u001b[39m, in \u001b[36m_ConnectionBase.poll\u001b[39m\u001b[34m(self, timeout)\u001b[39m\n\u001b[32m    258\u001b[39m \u001b[38;5;28mself\u001b[39m._check_closed()\n\u001b[32m    259\u001b[39m \u001b[38;5;28mself\u001b[39m._check_readable()\n\u001b[32m--> \u001b[39m\u001b[32m260\u001b[39m \u001b[38;5;28;01mreturn\u001b[39;00m \u001b[38;5;28;43mself\u001b[39;49m\u001b[43m.\u001b[49m\u001b[43m_poll\u001b[49m\u001b[43m(\u001b[49m\u001b[43mtimeout\u001b[49m\u001b[43m)\u001b[49m\n",
      "\u001b[36mFile \u001b[39m\u001b[32m~/miniconda3/envs/py311/lib/python3.11/site-packages/multiprocess/connection.py:443\u001b[39m, in \u001b[36mConnection._poll\u001b[39m\u001b[34m(self, timeout)\u001b[39m\n\u001b[32m    442\u001b[39m \u001b[38;5;28;01mdef\u001b[39;00m\u001b[38;5;250m \u001b[39m\u001b[34m_poll\u001b[39m(\u001b[38;5;28mself\u001b[39m, timeout):\n\u001b[32m--> \u001b[39m\u001b[32m443\u001b[39m     r = \u001b[43mwait\u001b[49m\u001b[43m(\u001b[49m\u001b[43m[\u001b[49m\u001b[38;5;28;43mself\u001b[39;49m\u001b[43m]\u001b[49m\u001b[43m,\u001b[49m\u001b[43m \u001b[49m\u001b[43mtimeout\u001b[49m\u001b[43m)\u001b[49m\n\u001b[32m    444\u001b[39m     \u001b[38;5;28;01mreturn\u001b[39;00m \u001b[38;5;28mbool\u001b[39m(r)\n",
      "\u001b[36mFile \u001b[39m\u001b[32m~/miniconda3/envs/py311/lib/python3.11/site-packages/multiprocess/connection.py:950\u001b[39m, in \u001b[36mwait\u001b[39m\u001b[34m(object_list, timeout)\u001b[39m\n\u001b[32m    947\u001b[39m     deadline = \u001b[38;5;28mgetattr\u001b[39m(time,\u001b[33m'\u001b[39m\u001b[33mmonotonic\u001b[39m\u001b[33m'\u001b[39m,time.time)() + timeout\n\u001b[32m    949\u001b[39m \u001b[38;5;28;01mwhile\u001b[39;00m \u001b[38;5;28;01mTrue\u001b[39;00m:\n\u001b[32m--> \u001b[39m\u001b[32m950\u001b[39m     ready = \u001b[43mselector\u001b[49m\u001b[43m.\u001b[49m\u001b[43mselect\u001b[49m\u001b[43m(\u001b[49m\u001b[43mtimeout\u001b[49m\u001b[43m)\u001b[49m\n\u001b[32m    951\u001b[39m     \u001b[38;5;28;01mif\u001b[39;00m ready:\n\u001b[32m    952\u001b[39m         \u001b[38;5;28;01mreturn\u001b[39;00m [key.fileobj \u001b[38;5;28;01mfor\u001b[39;00m (key, events) \u001b[38;5;129;01min\u001b[39;00m ready]\n",
      "\u001b[36mFile \u001b[39m\u001b[32m~/miniconda3/envs/py311/lib/python3.11/selectors.py:415\u001b[39m, in \u001b[36m_PollLikeSelector.select\u001b[39m\u001b[34m(self, timeout)\u001b[39m\n\u001b[32m    413\u001b[39m ready = []\n\u001b[32m    414\u001b[39m \u001b[38;5;28;01mtry\u001b[39;00m:\n\u001b[32m--> \u001b[39m\u001b[32m415\u001b[39m     fd_event_list = \u001b[38;5;28mself\u001b[39m._selector.poll(timeout)\n\u001b[32m    416\u001b[39m \u001b[38;5;28;01mexcept\u001b[39;00m \u001b[38;5;167;01mInterruptedError\u001b[39;00m:\n\u001b[32m    417\u001b[39m     \u001b[38;5;28;01mreturn\u001b[39;00m ready\n",
      "\u001b[31mKeyboardInterrupt\u001b[39m: "
     ]
    }
   ],
   "source": [
    "os.environ['OMP_NUM_THREADS'] = '10'\n",
    "bm.integrate(regions = [[0,3],[4,10]])"
   ]
  },
  {
   "cell_type": "code",
   "execution_count": null,
   "id": "72193e30",
   "metadata": {},
   "outputs": [
    {
     "name": "stderr",
     "output_type": "stream",
     "text": [
      "performing integration. 436.0/7200|  6%|█▋                         | 02:46<43:05\n",
      "Process SpawnProcess-24:\n",
      "Traceback (most recent call last):\n",
      "  File \"/Users/badw/miniconda3/envs/py311/lib/python3.11/site-packages/multiprocess/process.py\", line 314, in _bootstrap\n",
      "    self.run()\n",
      "  File \"/Users/badw/miniconda3/envs/py311/lib/python3.11/site-packages/multiprocess/process.py\", line 108, in run\n",
      "    self._target(*self._args, **self._kwargs)\n",
      "  File \"/Users/badw/github-projects/beavermap/src/beavermap.py\", line 177, in integrate_worker\n",
      "    self.ai.integrate1d(\n",
      "  File \"/Users/badw/miniconda3/envs/py311/lib/python3.11/site-packages/pyFAI/azimuthalIntegrator.py\", line 1514, in integrate1d_ng\n",
      "    intpl = integr(weights=data, variance=variance,\n",
      "            ^^^^^^^^^^^^^^^^^^^^^^^^^^^^^^^^^^^^^^^\n",
      "  File \"splitPixel.pyx\", line 477, in pyFAI.ext.splitPixel.fullSplit1D_engine\n",
      "  File \"/Users/badw/miniconda3/envs/py311/lib/python3.11/site-packages/numpy/core/function_base.py\", line 19, in _linspace_dispatcher\n",
      "    def _linspace_dispatcher(start, stop, num=None, endpoint=None, retstep=None,\n",
      "    \n",
      "KeyboardInterrupt\n",
      "Process SpawnProcess-30:\n",
      "Traceback (most recent call last):\n",
      "  File \"/Users/badw/miniconda3/envs/py311/lib/python3.11/site-packages/multiprocess/process.py\", line 314, in _bootstrap\n",
      "    self.run()\n",
      "  File \"/Users/badw/miniconda3/envs/py311/lib/python3.11/site-packages/multiprocess/process.py\", line 108, in run\n",
      "    self._target(*self._args, **self._kwargs)\n",
      "  File \"/Users/badw/github-projects/beavermap/src/beavermap.py\", line 177, in integrate_worker\n",
      "    self.ai.integrate1d(\n",
      "  File \"/Users/badw/miniconda3/envs/py311/lib/python3.11/site-packages/pyFAI/azimuthalIntegrator.py\", line 1514, in integrate1d_ng\n",
      "    intpl = integr(weights=data, variance=variance,\n",
      "            ^^^^^^^^^^^^^^^^^^^^^^^^^^^^^^^^^^^^^^^\n",
      "  File \"splitPixel.pyx\", line 477, in pyFAI.ext.splitPixel.fullSplit1D_engine\n",
      "  File \"/Users/badw/miniconda3/envs/py311/lib/python3.11/site-packages/numpy/core/function_base.py\", line 19, in _linspace_dispatcher\n",
      "    def _linspace_dispatcher(start, stop, num=None, endpoint=None, retstep=None,\n",
      "    \n",
      "KeyboardInterrupt\n",
      "Process SpawnProcess-25:\n",
      "Traceback (most recent call last):\n",
      "  File \"/Users/badw/miniconda3/envs/py311/lib/python3.11/site-packages/multiprocess/process.py\", line 314, in _bootstrap\n",
      "    self.run()\n",
      "  File \"/Users/badw/miniconda3/envs/py311/lib/python3.11/site-packages/multiprocess/process.py\", line 108, in run\n",
      "    self._target(*self._args, **self._kwargs)\n",
      "  File \"/Users/badw/github-projects/beavermap/src/beavermap.py\", line 177, in integrate_worker\n",
      "    self.ai.integrate1d(\n",
      "  File \"/Users/badw/miniconda3/envs/py311/lib/python3.11/site-packages/pyFAI/azimuthalIntegrator.py\", line 1514, in integrate1d_ng\n",
      "    intpl = integr(weights=data, variance=variance,\n",
      "            ^^^^^^^^^^^^^^^^^^^^^^^^^^^^^^^^^^^^^^^\n",
      "  File \"splitPixel.pyx\", line 342, in pyFAI.ext.splitPixel.fullSplit1D_engine\n",
      "  File \"splitpixel_common.pyx\", line 131, in pyFAI.ext.splitpixel_common.calc_boundaries\n",
      "  File \"<string>\", line 1, in <lambda>\n",
      "KeyboardInterrupt\n"
     ]
    },
    {
     "ename": "KeyboardInterrupt",
     "evalue": "",
     "output_type": "error",
     "traceback": [
      "\u001b[31m---------------------------------------------------------------------------\u001b[39m",
      "\u001b[31mKeyboardInterrupt\u001b[39m                         Traceback (most recent call last)",
      "\u001b[36mCell\u001b[39m\u001b[36m \u001b[39m\u001b[32mIn[34]\u001b[39m\u001b[32m, line 3\u001b[39m\n\u001b[32m      1\u001b[39m os.environ[\u001b[33m'\u001b[39m\u001b[33mOMP_NUM_THREADS\u001b[39m\u001b[33m'\u001b[39m] = \u001b[33m'\u001b[39m\u001b[33m1\u001b[39m\u001b[33m'\u001b[39m\n\u001b[32m      2\u001b[39m bm.nworkers = \u001b[32m10\u001b[39m \n\u001b[32m----> \u001b[39m\u001b[32m3\u001b[39m \u001b[43mbm\u001b[49m\u001b[43m.\u001b[49m\u001b[43mintegrate\u001b[49m\u001b[43m(\u001b[49m\u001b[43mregions\u001b[49m\u001b[43m \u001b[49m\u001b[43m=\u001b[49m\u001b[43m \u001b[49m\u001b[43m[\u001b[49m\u001b[43m[\u001b[49m\u001b[32;43m0\u001b[39;49m\u001b[43m,\u001b[49m\u001b[32;43m3\u001b[39;49m\u001b[43m]\u001b[49m\u001b[43m,\u001b[49m\u001b[43m[\u001b[49m\u001b[32;43m4\u001b[39;49m\u001b[43m,\u001b[49m\u001b[32;43m10\u001b[39;49m\u001b[43m]\u001b[49m\u001b[43m]\u001b[49m\u001b[43m)\u001b[49m\n",
      "\u001b[36mFile \u001b[39m\u001b[32m<string>:29\u001b[39m, in \u001b[36mintegrate\u001b[39m\u001b[34m(self, integrate_args, sampling, regions)\u001b[39m\n",
      "\u001b[36mFile \u001b[39m\u001b[32m~/github-projects/beavermap/src/beavermap.py:97\u001b[39m, in \u001b[36mBeaverMap.get_result_from_queue\u001b[39m\u001b[34m(self, pbar, ii)\u001b[39m\n\u001b[32m     94\u001b[39m \u001b[38;5;28;01mdef\u001b[39;00m\u001b[38;5;250m \u001b[39m\u001b[34mget_result_from_queue\u001b[39m(\u001b[38;5;28mself\u001b[39m,pbar=\u001b[38;5;28;01mNone\u001b[39;00m,ii=\u001b[38;5;28;01mNone\u001b[39;00m):\n\u001b[32m     95\u001b[39m     \u001b[38;5;66;03m# handle exception gracefully to avoid hanging rocesses\u001b[39;00m\n\u001b[32m     96\u001b[39m     \u001b[38;5;28;01mtry\u001b[39;00m:\n\u001b[32m---> \u001b[39m\u001b[32m97\u001b[39m         result = \u001b[38;5;28;43mself\u001b[39;49m\u001b[43m.\u001b[49m\u001b[43mout_queue\u001b[49m\u001b[43m.\u001b[49m\u001b[43mget\u001b[49m\u001b[43m(\u001b[49m\u001b[43mtimeout\u001b[49m\u001b[43m=\u001b[49m\u001b[32;43m20\u001b[39;49m\u001b[43m)\u001b[49m\n\u001b[32m     98\u001b[39m         \u001b[38;5;28;01mif\u001b[39;00m pbar \u001b[38;5;129;01mand\u001b[39;00m ii:\n\u001b[32m     99\u001b[39m             pbar.update(ii)\n",
      "\u001b[36mFile \u001b[39m\u001b[32m~/miniconda3/envs/py311/lib/python3.11/site-packages/multiprocess/queues.py:116\u001b[39m, in \u001b[36mQueue.get\u001b[39m\u001b[34m(self, block, timeout)\u001b[39m\n\u001b[32m    114\u001b[39m \u001b[38;5;28;01mif\u001b[39;00m block:\n\u001b[32m    115\u001b[39m     timeout = deadline - \u001b[38;5;28mgetattr\u001b[39m(time,\u001b[33m'\u001b[39m\u001b[33mmonotonic\u001b[39m\u001b[33m'\u001b[39m,time.time)()\n\u001b[32m--> \u001b[39m\u001b[32m116\u001b[39m     \u001b[38;5;28;01mif\u001b[39;00m \u001b[38;5;129;01mnot\u001b[39;00m \u001b[38;5;28;43mself\u001b[39;49m\u001b[43m.\u001b[49m\u001b[43m_poll\u001b[49m\u001b[43m(\u001b[49m\u001b[43mtimeout\u001b[49m\u001b[43m)\u001b[49m:\n\u001b[32m    117\u001b[39m         \u001b[38;5;28;01mraise\u001b[39;00m Empty\n\u001b[32m    118\u001b[39m \u001b[38;5;28;01melif\u001b[39;00m \u001b[38;5;129;01mnot\u001b[39;00m \u001b[38;5;28mself\u001b[39m._poll():\n",
      "\u001b[36mFile \u001b[39m\u001b[32m~/miniconda3/envs/py311/lib/python3.11/site-packages/multiprocess/connection.py:260\u001b[39m, in \u001b[36m_ConnectionBase.poll\u001b[39m\u001b[34m(self, timeout)\u001b[39m\n\u001b[32m    258\u001b[39m \u001b[38;5;28mself\u001b[39m._check_closed()\n\u001b[32m    259\u001b[39m \u001b[38;5;28mself\u001b[39m._check_readable()\n\u001b[32m--> \u001b[39m\u001b[32m260\u001b[39m \u001b[38;5;28;01mreturn\u001b[39;00m \u001b[38;5;28;43mself\u001b[39;49m\u001b[43m.\u001b[49m\u001b[43m_poll\u001b[49m\u001b[43m(\u001b[49m\u001b[43mtimeout\u001b[49m\u001b[43m)\u001b[49m\n",
      "\u001b[36mFile \u001b[39m\u001b[32m~/miniconda3/envs/py311/lib/python3.11/site-packages/multiprocess/connection.py:443\u001b[39m, in \u001b[36mConnection._poll\u001b[39m\u001b[34m(self, timeout)\u001b[39m\n\u001b[32m    442\u001b[39m \u001b[38;5;28;01mdef\u001b[39;00m\u001b[38;5;250m \u001b[39m\u001b[34m_poll\u001b[39m(\u001b[38;5;28mself\u001b[39m, timeout):\n\u001b[32m--> \u001b[39m\u001b[32m443\u001b[39m     r = \u001b[43mwait\u001b[49m\u001b[43m(\u001b[49m\u001b[43m[\u001b[49m\u001b[38;5;28;43mself\u001b[39;49m\u001b[43m]\u001b[49m\u001b[43m,\u001b[49m\u001b[43m \u001b[49m\u001b[43mtimeout\u001b[49m\u001b[43m)\u001b[49m\n\u001b[32m    444\u001b[39m     \u001b[38;5;28;01mreturn\u001b[39;00m \u001b[38;5;28mbool\u001b[39m(r)\n",
      "\u001b[36mFile \u001b[39m\u001b[32m~/miniconda3/envs/py311/lib/python3.11/site-packages/multiprocess/connection.py:950\u001b[39m, in \u001b[36mwait\u001b[39m\u001b[34m(object_list, timeout)\u001b[39m\n\u001b[32m    947\u001b[39m     deadline = \u001b[38;5;28mgetattr\u001b[39m(time,\u001b[33m'\u001b[39m\u001b[33mmonotonic\u001b[39m\u001b[33m'\u001b[39m,time.time)() + timeout\n\u001b[32m    949\u001b[39m \u001b[38;5;28;01mwhile\u001b[39;00m \u001b[38;5;28;01mTrue\u001b[39;00m:\n\u001b[32m--> \u001b[39m\u001b[32m950\u001b[39m     ready = \u001b[43mselector\u001b[49m\u001b[43m.\u001b[49m\u001b[43mselect\u001b[49m\u001b[43m(\u001b[49m\u001b[43mtimeout\u001b[49m\u001b[43m)\u001b[49m\n\u001b[32m    951\u001b[39m     \u001b[38;5;28;01mif\u001b[39;00m ready:\n\u001b[32m    952\u001b[39m         \u001b[38;5;28;01mreturn\u001b[39;00m [key.fileobj \u001b[38;5;28;01mfor\u001b[39;00m (key, events) \u001b[38;5;129;01min\u001b[39;00m ready]\n",
      "\u001b[36mFile \u001b[39m\u001b[32m~/miniconda3/envs/py311/lib/python3.11/selectors.py:415\u001b[39m, in \u001b[36m_PollLikeSelector.select\u001b[39m\u001b[34m(self, timeout)\u001b[39m\n\u001b[32m    413\u001b[39m ready = []\n\u001b[32m    414\u001b[39m \u001b[38;5;28;01mtry\u001b[39;00m:\n\u001b[32m--> \u001b[39m\u001b[32m415\u001b[39m     fd_event_list = \u001b[38;5;28mself\u001b[39m._selector.poll(timeout)\n\u001b[32m    416\u001b[39m \u001b[38;5;28;01mexcept\u001b[39;00m \u001b[38;5;167;01mInterruptedError\u001b[39;00m:\n\u001b[32m    417\u001b[39m     \u001b[38;5;28;01mreturn\u001b[39;00m ready\n",
      "\u001b[31mKeyboardInterrupt\u001b[39m: "
     ]
    },
    {
     "name": "stderr",
     "output_type": "stream",
     "text": [
      "Process SpawnProcess-26:\n",
      "Traceback (most recent call last):\n",
      "  File \"/Users/badw/miniconda3/envs/py311/lib/python3.11/site-packages/multiprocess/process.py\", line 314, in _bootstrap\n",
      "    self.run()\n",
      "  File \"/Users/badw/miniconda3/envs/py311/lib/python3.11/site-packages/multiprocess/process.py\", line 108, in run\n",
      "    self._target(*self._args, **self._kwargs)\n",
      "  File \"/Users/badw/github-projects/beavermap/src/beavermap.py\", line 177, in integrate_worker\n",
      "    self.ai.integrate1d(\n",
      "  File \"/Users/badw/miniconda3/envs/py311/lib/python3.11/site-packages/pyFAI/azimuthalIntegrator.py\", line 1514, in integrate1d_ng\n",
      "    intpl = integr(weights=data, variance=variance,\n",
      "            ^^^^^^^^^^^^^^^^^^^^^^^^^^^^^^^^^^^^^^^\n",
      "  File \"splitPixel.pyx\", line 477, in pyFAI.ext.splitPixel.fullSplit1D_engine\n",
      "  File \"/Users/badw/miniconda3/envs/py311/lib/python3.11/site-packages/numpy/core/function_base.py\", line 19, in _linspace_dispatcher\n",
      "    def _linspace_dispatcher(start, stop, num=None, endpoint=None, retstep=None,\n",
      "    \n",
      "KeyboardInterrupt\n",
      "Process SpawnProcess-32:\n",
      "Traceback (most recent call last):\n",
      "  File \"/Users/badw/miniconda3/envs/py311/lib/python3.11/site-packages/multiprocess/process.py\", line 314, in _bootstrap\n",
      "    self.run()\n",
      "  File \"/Users/badw/miniconda3/envs/py311/lib/python3.11/site-packages/multiprocess/process.py\", line 108, in run\n",
      "    self._target(*self._args, **self._kwargs)\n",
      "  File \"/Users/badw/github-projects/beavermap/src/beavermap.py\", line 177, in integrate_worker\n",
      "    self.ai.integrate1d(\n",
      "  File \"/Users/badw/miniconda3/envs/py311/lib/python3.11/site-packages/pyFAI/azimuthalIntegrator.py\", line 1514, in integrate1d_ng\n",
      "    intpl = integr(weights=data, variance=variance,\n",
      "            ^^^^^^^^^^^^^^^^^^^^^^^^^^^^^^^^^^^^^^^\n",
      "  File \"splitPixel.pyx\", line 477, in pyFAI.ext.splitPixel.fullSplit1D_engine\n",
      "  File \"/Users/badw/miniconda3/envs/py311/lib/python3.11/site-packages/numpy/core/function_base.py\", line 19, in _linspace_dispatcher\n",
      "    def _linspace_dispatcher(start, stop, num=None, endpoint=None, retstep=None,\n",
      "    \n",
      "KeyboardInterrupt\n",
      "Process SpawnProcess-28:\n",
      "Traceback (most recent call last):\n",
      "  File \"/Users/badw/miniconda3/envs/py311/lib/python3.11/site-packages/multiprocess/process.py\", line 314, in _bootstrap\n",
      "    self.run()\n",
      "  File \"/Users/badw/miniconda3/envs/py311/lib/python3.11/site-packages/multiprocess/process.py\", line 108, in run\n",
      "    self._target(*self._args, **self._kwargs)\n",
      "  File \"/Users/badw/github-projects/beavermap/src/beavermap.py\", line 177, in integrate_worker\n",
      "    self.ai.integrate1d(\n",
      "  File \"/Users/badw/miniconda3/envs/py311/lib/python3.11/site-packages/pyFAI/azimuthalIntegrator.py\", line 1514, in integrate1d_ng\n",
      "    intpl = integr(weights=data, variance=variance,\n",
      "            ^^^^^^^^^^^^^^^^^^^^^^^^^^^^^^^^^^^^^^^\n",
      "  File \"splitPixel.pyx\", line 477, in pyFAI.ext.splitPixel.fullSplit1D_engine\n",
      "  File \"/Users/badw/miniconda3/envs/py311/lib/python3.11/site-packages/numpy/core/function_base.py\", line 19, in _linspace_dispatcher\n",
      "    def _linspace_dispatcher(start, stop, num=None, endpoint=None, retstep=None,\n",
      "    \n",
      "KeyboardInterrupt\n",
      "Process SpawnProcess-29:\n",
      "Traceback (most recent call last):\n",
      "  File \"/Users/badw/miniconda3/envs/py311/lib/python3.11/site-packages/multiprocess/process.py\", line 314, in _bootstrap\n",
      "    self.run()\n",
      "  File \"/Users/badw/miniconda3/envs/py311/lib/python3.11/site-packages/multiprocess/process.py\", line 108, in run\n",
      "    self._target(*self._args, **self._kwargs)\n",
      "  File \"/Users/badw/github-projects/beavermap/src/beavermap.py\", line 177, in integrate_worker\n",
      "    self.ai.integrate1d(\n",
      "  File \"/Users/badw/miniconda3/envs/py311/lib/python3.11/site-packages/pyFAI/azimuthalIntegrator.py\", line 1514, in integrate1d_ng\n",
      "    intpl = integr(weights=data, variance=variance,\n",
      "            ^^^^^^^^^^^^^^^^^^^^^^^^^^^^^^^^^^^^^^^\n",
      "  File \"splitPixel.pyx\", line 477, in pyFAI.ext.splitPixel.fullSplit1D_engine\n",
      "  File \"/Users/badw/miniconda3/envs/py311/lib/python3.11/site-packages/numpy/core/function_base.py\", line 19, in _linspace_dispatcher\n",
      "    def _linspace_dispatcher(start, stop, num=None, endpoint=None, retstep=None,\n",
      "    \n",
      "KeyboardInterrupt\n",
      "Process SpawnProcess-23:\n",
      "Traceback (most recent call last):\n",
      "  File \"/Users/badw/miniconda3/envs/py311/lib/python3.11/site-packages/multiprocess/process.py\", line 314, in _bootstrap\n",
      "    self.run()\n",
      "  File \"/Users/badw/miniconda3/envs/py311/lib/python3.11/site-packages/multiprocess/process.py\", line 108, in run\n",
      "    self._target(*self._args, **self._kwargs)\n",
      "  File \"/Users/badw/github-projects/beavermap/src/beavermap.py\", line 177, in integrate_worker\n",
      "    self.ai.integrate1d(\n",
      "  File \"/Users/badw/miniconda3/envs/py311/lib/python3.11/site-packages/pyFAI/azimuthalIntegrator.py\", line 1514, in integrate1d_ng\n",
      "    intpl = integr(weights=data, variance=variance,\n",
      "            ^^^^^^^^^^^^^^^^^^^^^^^^^^^^^^^^^^^^^^^\n",
      "  File \"splitPixel.pyx\", line 477, in pyFAI.ext.splitPixel.fullSplit1D_engine\n",
      "  File \"/Users/badw/miniconda3/envs/py311/lib/python3.11/site-packages/numpy/core/function_base.py\", line 19, in _linspace_dispatcher\n",
      "    def _linspace_dispatcher(start, stop, num=None, endpoint=None, retstep=None,\n",
      "    \n",
      "KeyboardInterrupt\n",
      "Process SpawnProcess-31:\n",
      "Traceback (most recent call last):\n",
      "  File \"/Users/badw/miniconda3/envs/py311/lib/python3.11/site-packages/multiprocess/process.py\", line 314, in _bootstrap\n",
      "    self.run()\n",
      "  File \"/Users/badw/miniconda3/envs/py311/lib/python3.11/site-packages/multiprocess/process.py\", line 108, in run\n",
      "    self._target(*self._args, **self._kwargs)\n",
      "  File \"/Users/badw/github-projects/beavermap/src/beavermap.py\", line 177, in integrate_worker\n",
      "    self.ai.integrate1d(\n",
      "  File \"/Users/badw/miniconda3/envs/py311/lib/python3.11/site-packages/pyFAI/azimuthalIntegrator.py\", line 1514, in integrate1d_ng\n",
      "    intpl = integr(weights=data, variance=variance,\n",
      "            ^^^^^^^^^^^^^^^^^^^^^^^^^^^^^^^^^^^^^^^\n",
      "  File \"splitPixel.pyx\", line 477, in pyFAI.ext.splitPixel.fullSplit1D_engine\n",
      "  File \"/Users/badw/miniconda3/envs/py311/lib/python3.11/site-packages/numpy/core/function_base.py\", line 19, in _linspace_dispatcher\n",
      "    def _linspace_dispatcher(start, stop, num=None, endpoint=None, retstep=None,\n",
      "    \n",
      "KeyboardInterrupt\n",
      "Process SpawnProcess-27:\n",
      "Traceback (most recent call last):\n",
      "  File \"/Users/badw/miniconda3/envs/py311/lib/python3.11/site-packages/multiprocess/process.py\", line 314, in _bootstrap\n",
      "    self.run()\n",
      "  File \"/Users/badw/miniconda3/envs/py311/lib/python3.11/site-packages/multiprocess/process.py\", line 108, in run\n",
      "    self._target(*self._args, **self._kwargs)\n",
      "  File \"/Users/badw/github-projects/beavermap/src/beavermap.py\", line 177, in integrate_worker\n",
      "    self.ai.integrate1d(\n",
      "  File \"/Users/badw/miniconda3/envs/py311/lib/python3.11/site-packages/pyFAI/azimuthalIntegrator.py\", line 1514, in integrate1d_ng\n",
      "    intpl = integr(weights=data, variance=variance,\n",
      "            ^^^^^^^^^^^^^^^^^^^^^^^^^^^^^^^^^^^^^^^\n",
      "  File \"splitPixel.pyx\", line 477, in pyFAI.ext.splitPixel.fullSplit1D_engine\n",
      "  File \"/Users/badw/miniconda3/envs/py311/lib/python3.11/site-packages/numpy/core/function_base.py\", line 19, in _linspace_dispatcher\n",
      "    def _linspace_dispatcher(start, stop, num=None, endpoint=None, retstep=None,\n",
      "    \n",
      "KeyboardInterrupt\n"
     ]
    }
   ],
   "source": [
    "os.environ['OMP_NUM_THREADS'] = '1'\n",
    "bm.nworkers = 10 \n",
    "bm.integrate(regions = [[0,3],[4,10]])"
   ]
  },
  {
   "cell_type": "code",
   "execution_count": 33,
   "id": "a689876a",
   "metadata": {},
   "outputs": [
    {
     "data": {
      "text/plain": [
       "7200"
      ]
     },
     "execution_count": 33,
     "metadata": {},
     "output_type": "execute_result"
    }
   ],
   "source": [
    "bm.n_images"
   ]
  },
  {
   "cell_type": "code",
   "execution_count": null,
   "id": "2be44137",
   "metadata": {},
   "outputs": [],
   "source": [
    "bm"
   ]
  }
 ],
 "metadata": {
  "kernelspec": {
   "display_name": "py311",
   "language": "python",
   "name": "python3"
  },
  "language_info": {
   "codemirror_mode": {
    "name": "ipython",
    "version": 3
   },
   "file_extension": ".py",
   "mimetype": "text/x-python",
   "name": "python",
   "nbconvert_exporter": "python",
   "pygments_lexer": "ipython3",
   "version": "3.11.9"
  }
 },
 "nbformat": 4,
 "nbformat_minor": 5
}
