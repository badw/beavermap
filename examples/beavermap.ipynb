{
 "cells": [
  {
   "cell_type": "code",
   "execution_count": 1,
   "id": "3a862df3",
   "metadata": {},
   "outputs": [],
   "source": [
    "%load_ext autoreload\n",
    "%autoreload 2"
   ]
  },
  {
   "cell_type": "code",
   "execution_count": 37,
   "id": "7906de85",
   "metadata": {},
   "outputs": [],
   "source": [
    "from beavermap import BeaverMap\n",
    "import os \n",
    "bm = BeaverMap(\n",
    "    h5_file = './data/al2o3_m330p0/al2o3_m330p0.h5',\n",
    "    poni_file = './data/m330p0.poni',\n",
    "    mask_file = './data/mask.edf',\n",
    "    chunk_size = 100,\n",
    "    location = '1.1/measurement/eiger',\n",
    "    nworkers = 1,\n",
    "    max_memory = 4000\n",
    ")\n"
   ]
  },
  {
   "cell_type": "code",
   "execution_count": 38,
   "id": "b27789fe",
   "metadata": {},
   "outputs": [],
   "source": [
    "ranges = [(9, 13),     # XLPE/EVA\n",
    "    (18.957, 19, 357),\n",
    "    (13.879, 14.103),  # Graphite\n",
    "    (11.017, 11.068),  # Mica\n",
    "    (12.226, 12.396),\n",
    "    (13.426, 13.603),\n",
    "    (16.484, 16.660),\n",
    "    (14.393, 14.793),  # NaCl\n",
    "    (16.663, 17.063),\n",
    "    (23.733, 24.133),\n",
    "    (27.933, 28.333),\n",
    "    (29.213, 29.613),\n",
    "    (33.950, 34.250),\n",
    "    (37.043, 37.443),\n",
    "    (38.048, 38.448),\n",
    "    (41.940, 42.200),\n",
    "    (44.630, 44.859),\n",
    "    (14.993, 15.173),  # KCl\n",
    "    (21.303, 21.484),\n",
    "    (25.169, 25.324),\n",
    "    (26.124, 26.472),\n",
    "    (15.522, 15.803),  # CaCO3\n",
    "    (19.054, 19.154),\n",
    "    (20.720, 20.948),\n",
    "    (22.690, 22.815),\n",
    "    (24.650, 24.812),\n",
    "    (25.328, 25.596),\n",
    "    (29.687, 29.917),\n",
    "    (31.276, 31.910),\n",
    "    (33.147, 33.501),\n",
    "    (33.753, 33.946),\n",
    "    (19.154, 19.368),  # ZnO\n",
    "    (18.193, 18.464),\n",
    "    (24.873, 25.117),\n",
    "    (32.292, 32.617),\n",
    "    (34.783, 35.007),\n",
    "    (35.227, 35.568),\n",
    "    (38.717, 39.275),\n",
    "    (44.330, 44.574),\n",
    "    (14.45, 14.70),    #Unknowns\n",
    "    (28.3, 28.5),\n",
    "    (26.55, 26.85),\n",
    "    (13, 13.2),\n",
    "    (17.75, 17.95),\n",
    "    (18.3, 18.7),\n",
    "    (24.26, 24.80),\n",
    "    (28.9, 29.10)\n",
    "              ]"
   ]
  },
  {
   "cell_type": "code",
   "execution_count": 44,
   "id": "3a6a4d59",
   "metadata": {},
   "outputs": [],
   "source": [
    "bm.default_integrate_args"
   ]
  },
  {
   "cell_type": "code",
   "execution_count": 45,
   "id": "fa745921",
   "metadata": {},
   "outputs": [],
   "source": [
    "os.environ['OMP_NUM_THREADS'] = '1'\n",
    "bm.nworkers = 1\n",
    "#bm.n_images=600\n",
    "integration = bm.integrate_worker(\n",
    "    image = 1, regions = ranges,in_q=1,out_q=2,args=bm.integrate_args\n",
    ")"
   ]
  },
  {
   "cell_type": "code",
   "execution_count": 49,
   "id": "00cb74e3",
   "metadata": {},
   "outputs": [
    {
     "data": {
      "text/plain": [
       "(47, 60, 120)"
      ]
     },
     "execution_count": 49,
     "metadata": {},
     "output_type": "execute_result"
    }
   ],
   "source": [
    "import numpy as np \n",
    "np.shape(integration)"
   ]
  },
  {
   "cell_type": "code",
   "execution_count": 50,
   "id": "76c95fde",
   "metadata": {},
   "outputs": [],
   "source": [
    "np.save('test.npy',integration)"
   ]
  }
 ],
 "metadata": {
  "kernelspec": {
   "display_name": "py311",
   "language": "python",
   "name": "python3"
  },
  "language_info": {
   "codemirror_mode": {
    "name": "ipython",
    "version": 3
   },
   "file_extension": ".py",
   "mimetype": "text/x-python",
   "name": "python",
   "nbconvert_exporter": "python",
   "pygments_lexer": "ipython3",
   "version": "3.11.9"
  }
 },
 "nbformat": 4,
 "nbformat_minor": 5
}
